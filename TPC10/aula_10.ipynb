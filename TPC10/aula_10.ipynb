{
 "cells": [
  {
   "cell_type": "code",
   "execution_count": 6,
   "id": "3a62ccd0",
   "metadata": {},
   "outputs": [],
   "source": [
    "from gensim.models import Word2Vec\n",
    "\n",
    "sentences=[['this','is','the','first','sentence','for','word2vec'],\n",
    "           ['this','is','the','second','sentence'],\n",
    "           ['yet','another','sentence'],\n",
    "           ['one','more','sentence'],\n",
    "            ['and','the','final','sentence']]\n",
    "model=Word2Vec(sentences, vector_size=100, window=5, min_count=1, sg=1, epochs=5, workers=3)"
   ]
  },
  {
   "cell_type": "code",
   "execution_count": 7,
   "id": "c73aad90",
   "metadata": {},
   "outputs": [
    {
     "data": {
      "text/plain": [
       "array([-5.3622725e-04,  2.3643136e-04,  5.1033497e-03,  9.0092728e-03,\n",
       "       -9.3029495e-03, -7.1168090e-03,  6.4588725e-03,  8.9729885e-03,\n",
       "       -5.0154282e-03, -3.7633716e-03,  7.3805046e-03, -1.5334714e-03,\n",
       "       -4.5366134e-03,  6.5540518e-03, -4.8601604e-03, -1.8160177e-03,\n",
       "        2.8765798e-03,  9.9187379e-04, -8.2852151e-03, -9.4488179e-03,\n",
       "        7.3117660e-03,  5.0702621e-03,  6.7576934e-03,  7.6286553e-04,\n",
       "        6.3508903e-03, -3.4053659e-03, -9.4640139e-04,  5.7685734e-03,\n",
       "       -7.5216377e-03, -3.9361035e-03, -7.5115822e-03, -9.3004224e-04,\n",
       "        9.5381187e-03, -7.3191668e-03, -2.3337686e-03, -1.9377411e-03,\n",
       "        8.0774371e-03, -5.9308959e-03,  4.5162440e-05, -4.7537340e-03,\n",
       "       -9.6035507e-03,  5.0072931e-03, -8.7595852e-03, -4.3918253e-03,\n",
       "       -3.5099984e-05, -2.9618145e-04, -7.6612402e-03,  9.6147433e-03,\n",
       "        4.9820580e-03,  9.2331432e-03, -8.1579173e-03,  4.4957981e-03,\n",
       "       -4.1370760e-03,  8.2453608e-04,  8.4986202e-03, -4.4621765e-03,\n",
       "        4.5175003e-03, -6.7869602e-03, -3.5484887e-03,  9.3985079e-03,\n",
       "       -1.5776526e-03,  3.2137157e-04, -4.1406299e-03, -7.6826881e-03,\n",
       "       -1.5080082e-03,  2.4697948e-03, -8.8802696e-04,  5.5336617e-03,\n",
       "       -2.7429771e-03,  2.2600652e-03,  5.4557943e-03,  8.3459532e-03,\n",
       "       -1.4537406e-03, -9.2081428e-03,  4.3705525e-03,  5.7178497e-04,\n",
       "        7.4419081e-03, -8.1328274e-04, -2.6384138e-03, -8.7530091e-03,\n",
       "       -8.5655687e-04,  2.8265631e-03,  5.4014288e-03,  7.0526563e-03,\n",
       "       -5.7031214e-03,  1.8588197e-03,  6.0888636e-03, -4.7980510e-03,\n",
       "       -3.1072604e-03,  6.7976294e-03,  1.6314756e-03,  1.8991709e-04,\n",
       "        3.4736372e-03,  2.1777749e-04,  9.6188262e-03,  5.0606038e-03,\n",
       "       -8.9173904e-03, -7.0415605e-03,  9.0145587e-04,  6.3925339e-03],\n",
       "      dtype=float32)"
      ]
     },
     "execution_count": 7,
     "metadata": {},
     "output_type": "execute_result"
    }
   ],
   "source": [
    "model.wv['sentence']"
   ]
  },
  {
   "cell_type": "code",
   "execution_count": 8,
   "id": "c556edb8",
   "metadata": {},
   "outputs": [],
   "source": [
    "more_sentences=[\n",
    "    ['Advanced', 'users','can','load','a','model'],\n",
    "    \n",
    "]"
   ]
  },
  {
   "cell_type": "code",
   "execution_count": 9,
   "id": "8445a496",
   "metadata": {},
   "outputs": [],
   "source": [
    "model.save(\"models/word2vec.model\")\n",
    "model=Word2Vec.load(\"models/word2vec.model\") "
   ]
  },
  {
   "cell_type": "markdown",
   "id": "5c9ac8d3",
   "metadata": {},
   "source": [
    "## TPC 10\n"
   ]
  },
  {
   "cell_type": "code",
   "execution_count": null,
   "id": "e71474ee",
   "metadata": {},
   "outputs": [],
   "source": [
    "# Pegar no ficheiro txt e fazer preprocessamento para conseguir trabalhar em gensim (precisa de uma lista de lista de tokens)\n",
    "# Criar a lista de lista de tokens para o ficheiro do Harry Potter"
   ]
  },
  {
   "cell_type": "code",
   "execution_count": 10,
   "id": "b1405e8c",
   "metadata": {},
   "outputs": [],
   "source": [
    "import gensim \n",
    "# gensim.utils.tokenize(sent, lower=True)"
   ]
  },
  {
   "cell_type": "code",
   "execution_count": 11,
   "id": "473577dc",
   "metadata": {},
   "outputs": [],
   "source": [
    "f1=open('Harry_Potter_Camara_Secreta-br.txt','r',encoding='utf-8')\n",
    "f2=open('Harry_Potter_e_A_Pedra_Filosofal.txt','r',encoding='utf-8')\n",
    "sents=[]\n",
    "for line in f1:\n",
    "    tokens=list(gensim.utils.tokenize(line, lower=True))\n",
    "    sents.append(tokens)\n",
    "for line in f2:\n",
    "    tokens=list(gensim.utils.tokenize(line, lower=True))\n",
    "    sents.append(tokens)"
   ]
  },
  {
   "cell_type": "code",
   "execution_count": 12,
   "id": "74cf6cdb",
   "metadata": {},
   "outputs": [],
   "source": [
    "from gensim.models import Word2Vec\n",
    "\n",
    "model=Word2Vec(sents,vector_size=100,epochs=20)\n"
   ]
  },
  {
   "cell_type": "code",
   "execution_count": 13,
   "id": "9d09ab8c",
   "metadata": {},
   "outputs": [
    {
     "name": "stdout",
     "output_type": "stream",
     "text": [
      "[('neville', 0.6616491675376892), ('mione', 0.6193110942840576), ('ele', 0.5938624739646912), ('draco', 0.5540478825569153), ('hermione', 0.5527000427246094), ('colin', 0.531894862651825), ('repente', 0.5278295874595642), ('justino', 0.5162161588668823), ('rony', 0.505412220954895), ('riddle', 0.5051980018615723)]\n"
     ]
    }
   ],
   "source": [
    "similar=model.wv.most_similar('harry', topn=10)\n",
    "print(similar)"
   ]
  },
  {
   "cell_type": "code",
   "execution_count": 14,
   "id": "f8ac4cd1",
   "metadata": {},
   "outputs": [
    {
     "name": "stdout",
     "output_type": "stream",
     "text": [
      "[('quirrell', 0.7220355272293091), ('riddle', 0.7083688974380493), ('ele', 0.6667634844779968), ('mione', 0.6254496574401855), ('neville', 0.6084224581718445), ('escapar', 0.569179892539978), ('hagrid', 0.56413733959198), ('draco', 0.5545890927314758), ('nervoso', 0.5368252992630005), ('controlar', 0.5166575312614441)]\n",
      "0.47486258\n",
      "0.421205\n"
     ]
    }
   ],
   "source": [
    "print(model.wv.most_similar(positive=[\"harry\", \"snape\"],negative=[\"grifinória\"]))\n",
    "print(model.wv.similarity('harry','hagrid'))\n",
    "print(model.wv.similarity('harry','dobby'))\n"
   ]
  },
  {
   "cell_type": "code",
   "execution_count": 15,
   "id": "1257499c",
   "metadata": {},
   "outputs": [
    {
     "data": {
      "text/plain": [
       "'dobby'"
      ]
     },
     "execution_count": 15,
     "metadata": {},
     "output_type": "execute_result"
    }
   ],
   "source": [
    "model.wv.doesnt_match(['harry','dobby','hagrid'])"
   ]
  },
  {
   "cell_type": "code",
   "execution_count": 16,
   "id": "c7944103",
   "metadata": {},
   "outputs": [],
   "source": [
    "import gensim.scripts\n",
    "\n",
    "#guardar o modelo assim:\n",
    "model.wv.save_word2vec_format('model_harry.txt',binary=False)\n",
    "#python -m gensim.scripts.word2vec2tensor --input model_harry.txt --output model_harry \n",
    "#https://projector.tensorflow.org"
   ]
  }
 ],
 "metadata": {
  "kernelspec": {
   "display_name": ".venv",
   "language": "python",
   "name": "python3"
  },
  "language_info": {
   "codemirror_mode": {
    "name": "ipython",
    "version": 3
   },
   "file_extension": ".py",
   "mimetype": "text/x-python",
   "name": "python",
   "nbconvert_exporter": "python",
   "pygments_lexer": "ipython3",
   "version": "3.9.13"
  }
 },
 "nbformat": 4,
 "nbformat_minor": 5
}
